{
 "cells": [
  {
   "cell_type": "markdown",
   "metadata": {},
   "source": [
    "## Introduction"
   ]
  },
  {
   "cell_type": "markdown",
   "metadata": {},
   "source": [
    "### Background on the Data:\n",
    "\n",
    "The data I am evaluating here is a file that shows percentages for each NBA team to win an average game based on the minute of that game. The data is split up into all 30 proffesional teams, with 49 columns each representing every minute of the average game they played. The data starts at minute 0, and ends at minute 48. The goal of this lab is to determine some statistical analysis of the data, whatever that may be."
   ]
  },
  {
   "cell_type": "markdown",
   "metadata": {},
   "source": [
    "### Dataset Preparation:\n",
    "\n",
    "- For my struggles in the coding world, I decided to try helping myself out by using the code from elsewhere in order to make sense of what my data showed me \n",
    "- Our data is showing us the percentage to win a given basketball game by minute, averaged throughout the season \n",
    "- To seperate into easy categories, the data was divided by team and each team's individual values and scores.\n",
    "- I want to analyze the coorelation between each minute relative to the final minute \n",
    "- To do this, I am going to decide to disregard what team it is and instead just focus on the overall correlation from all 30 teams by each minute to the final minute\n",
    "- To help my code, I used pandas, numpys, and a helpful plotting tool at the beginning so that I do not have to spend a ton of time messing around trying random things to get the result that I want\n",
    "- These are extremely helpful because it cleans up the code a lot, making my code a lot easier to read instead of having a lot of extra code that takes a lot of time \n",
    "- In the end, these tools can also convey information a lot easier"
   ]
  },
  {
   "cell_type": "code",
   "execution_count": 2,
   "metadata": {},
   "outputs": [
    {
     "data": {
      "text/html": [
       "<div>\n",
       "<style>\n",
       "    .dataframe thead tr:only-child th {\n",
       "        text-align: right;\n",
       "    }\n",
       "\n",
       "    .dataframe thead th {\n",
       "        text-align: left;\n",
       "    }\n",
       "\n",
       "    .dataframe tbody tr th {\n",
       "        vertical-align: top;\n",
       "    }\n",
       "</style>\n",
       "<table border=\"1\" class=\"dataframe\">\n",
       "  <thead>\n",
       "    <tr style=\"text-align: right;\">\n",
       "      <th></th>\n",
       "      <th>team</th>\n",
       "      <th>0</th>\n",
       "      <th>1</th>\n",
       "      <th>2</th>\n",
       "      <th>3</th>\n",
       "      <th>4</th>\n",
       "      <th>5</th>\n",
       "      <th>6</th>\n",
       "      <th>7</th>\n",
       "      <th>8</th>\n",
       "      <th>...</th>\n",
       "      <th>39</th>\n",
       "      <th>40</th>\n",
       "      <th>41</th>\n",
       "      <th>42</th>\n",
       "      <th>43</th>\n",
       "      <th>44</th>\n",
       "      <th>45</th>\n",
       "      <th>46</th>\n",
       "      <th>47</th>\n",
       "      <th>48</th>\n",
       "    </tr>\n",
       "  </thead>\n",
       "  <tbody>\n",
       "    <tr>\n",
       "      <th>0</th>\n",
       "      <td>Hawks</td>\n",
       "      <td>0.50659</td>\n",
       "      <td>0.51033</td>\n",
       "      <td>0.51500</td>\n",
       "      <td>0.51631</td>\n",
       "      <td>0.51853</td>\n",
       "      <td>0.52819</td>\n",
       "      <td>0.53316</td>\n",
       "      <td>0.52887</td>\n",
       "      <td>0.53559</td>\n",
       "      <td>...</td>\n",
       "      <td>0.71627</td>\n",
       "      <td>0.73074</td>\n",
       "      <td>0.74168</td>\n",
       "      <td>0.76403</td>\n",
       "      <td>0.78034</td>\n",
       "      <td>0.78955</td>\n",
       "      <td>0.79571</td>\n",
       "      <td>0.81632</td>\n",
       "      <td>0.83095</td>\n",
       "      <td>0.80556</td>\n",
       "    </tr>\n",
       "    <tr>\n",
       "      <th>1</th>\n",
       "      <td>Nets</td>\n",
       "      <td>0.50290</td>\n",
       "      <td>0.50561</td>\n",
       "      <td>0.50916</td>\n",
       "      <td>0.51488</td>\n",
       "      <td>0.51580</td>\n",
       "      <td>0.51226</td>\n",
       "      <td>0.52629</td>\n",
       "      <td>0.51997</td>\n",
       "      <td>0.52036</td>\n",
       "      <td>...</td>\n",
       "      <td>0.40743</td>\n",
       "      <td>0.41453</td>\n",
       "      <td>0.42484</td>\n",
       "      <td>0.42403</td>\n",
       "      <td>0.44106</td>\n",
       "      <td>0.43498</td>\n",
       "      <td>0.40266</td>\n",
       "      <td>0.39979</td>\n",
       "      <td>0.41820</td>\n",
       "      <td>0.42308</td>\n",
       "    </tr>\n",
       "    <tr>\n",
       "      <th>2</th>\n",
       "      <td>Celtics</td>\n",
       "      <td>0.50072</td>\n",
       "      <td>0.50446</td>\n",
       "      <td>0.49667</td>\n",
       "      <td>0.49552</td>\n",
       "      <td>0.49248</td>\n",
       "      <td>0.49178</td>\n",
       "      <td>0.48757</td>\n",
       "      <td>0.48156</td>\n",
       "      <td>0.46489</td>\n",
       "      <td>...</td>\n",
       "      <td>0.41242</td>\n",
       "      <td>0.40990</td>\n",
       "      <td>0.39759</td>\n",
       "      <td>0.41533</td>\n",
       "      <td>0.42298</td>\n",
       "      <td>0.41764</td>\n",
       "      <td>0.43214</td>\n",
       "      <td>0.39493</td>\n",
       "      <td>0.39146</td>\n",
       "      <td>0.41176</td>\n",
       "    </tr>\n",
       "  </tbody>\n",
       "</table>\n",
       "<p>3 rows × 50 columns</p>\n",
       "</div>"
      ],
      "text/plain": [
       "      team        0        1        2        3        4        5        6  \\\n",
       "0    Hawks  0.50659  0.51033  0.51500  0.51631  0.51853  0.52819  0.53316   \n",
       "1     Nets  0.50290  0.50561  0.50916  0.51488  0.51580  0.51226  0.52629   \n",
       "2  Celtics  0.50072  0.50446  0.49667  0.49552  0.49248  0.49178  0.48757   \n",
       "\n",
       "         7        8   ...          39       40       41       42       43  \\\n",
       "0  0.52887  0.53559   ...     0.71627  0.73074  0.74168  0.76403  0.78034   \n",
       "1  0.51997  0.52036   ...     0.40743  0.41453  0.42484  0.42403  0.44106   \n",
       "2  0.48156  0.46489   ...     0.41242  0.40990  0.39759  0.41533  0.42298   \n",
       "\n",
       "        44       45       46       47       48  \n",
       "0  0.78955  0.79571  0.81632  0.83095  0.80556  \n",
       "1  0.43498  0.40266  0.39979  0.41820  0.42308  \n",
       "2  0.41764  0.43214  0.39493  0.39146  0.41176  \n",
       "\n",
       "[3 rows x 50 columns]"
      ]
     },
     "execution_count": 2,
     "metadata": {},
     "output_type": "execute_result"
    }
   ],
   "source": [
    "import numpy as np\n",
    "import matplotlib.pyplot as plt\n",
    "import pandas as pd #putting in a panda script that has a pre-written function determining data\n",
    "\n",
    "nba_data = pd.read_csv(\"nba.csv\") #read in a well-formed csv file\n",
    "\n",
    "nba_data[:3]\n",
    "\n"
   ]
  },
  {
   "cell_type": "code",
   "execution_count": 7,
   "metadata": {},
   "outputs": [
    {
     "name": "stdout",
     "output_type": "stream",
     "text": [
      "correlation in minute 0 is 0.383754085072\n",
      "correlation in minute 1 is 0.566751095924\n",
      "correlation in minute 2 is 0.794240204483\n",
      "correlation in minute 3 is 0.754792369741\n",
      "correlation in minute 4 is 0.70285958868\n",
      "correlation in minute 5 is 0.675703576822\n",
      "correlation in minute 6 is 0.678675912069\n",
      "correlation in minute 7 is 0.704706589184\n",
      "correlation in minute 8 is 0.747190952237\n",
      "correlation in minute 9 is 0.775720622906\n",
      "correlation in minute 10 is 0.79284286234\n",
      "correlation in minute 11 is 0.819743491511\n",
      "correlation in minute 12 is 0.818398681516\n",
      "correlation in minute 13 is 0.802055073686\n",
      "correlation in minute 14 is 0.80985143217\n",
      "correlation in minute 15 is 0.845201622366\n",
      "correlation in minute 16 is 0.841572574468\n",
      "correlation in minute 17 is 0.865577196767\n",
      "correlation in minute 18 is 0.85573978667\n",
      "correlation in minute 19 is 0.876162307903\n",
      "correlation in minute 20 is 0.888374613903\n",
      "correlation in minute 21 is 0.886863146986\n",
      "correlation in minute 22 is 0.890651654313\n",
      "correlation in minute 23 is 0.9043719441\n",
      "correlation in minute 24 is 0.91640249354\n",
      "correlation in minute 25 is 0.918773476565\n",
      "correlation in minute 26 is 0.921010280229\n",
      "correlation in minute 27 is 0.923743348148\n",
      "correlation in minute 28 is 0.926765878047\n",
      "correlation in minute 29 is 0.935226872387\n",
      "correlation in minute 30 is 0.933599981294\n",
      "correlation in minute 31 is 0.939968417015\n",
      "correlation in minute 32 is 0.944535803483\n",
      "correlation in minute 33 is 0.956194051343\n",
      "correlation in minute 34 is 0.960063871476\n",
      "correlation in minute 35 is 0.962539558798\n",
      "correlation in minute 36 is 0.960163215879\n",
      "correlation in minute 37 is 0.962565010258\n",
      "correlation in minute 38 is 0.968859023943\n",
      "correlation in minute 39 is 0.974503465306\n",
      "correlation in minute 40 is 0.974856374028\n",
      "correlation in minute 41 is 0.980258805846\n",
      "correlation in minute 42 is 0.984400619847\n",
      "correlation in minute 43 is 0.985920718937\n",
      "correlation in minute 44 is 0.988557502654\n",
      "correlation in minute 45 is 0.988456437901\n",
      "correlation in minute 46 is 0.991841945036\n",
      "correlation in minute 47 is 0.996157792014\n"
     ]
    }
   ],
   "source": [
    "#create a list of correlation coefficients for minutes 1-47\n",
    "r_vals = []\n",
    "\n",
    "#loop thru columns and compute correlation coefficient (r)\n",
    "for c in nba_data.columns:\n",
    "    #skip the team name column and the minute 48\n",
    "    if c != 'team' and c != '48':\n",
    "        r = np.corrcoef(nba_data[c], nba_data['48'])[0, 1]\n",
    "        r_vals.append(r)\n",
    "        print(\"correlation in minute\", c, \"is\", r)"
   ]
  },
  {
   "cell_type": "markdown",
   "metadata": {},
   "source": [
    "What I found from this information:\n",
    "- The correlation gradually goes up, getting closer and closer to one starting at the first minute up until the 47th minute in relation to what the final result is going to be in the game\n",
    "- Interestingly enough, the second minute has a weird jump in the correlation factor, up to almost .8\n",
    "- This jump is interesting to note, I will revisit it later in my conclusion"
   ]
  },
  {
   "cell_type": "markdown",
   "metadata": {},
   "source": [
    "### Data Modeling (Print):\n",
    "\n",
    "- In the cell below, I am defining what X and Y are as a prep for the actual graph. It will be helpful later on when trying to determine the correlations between the first and the last minute"
   ]
  },
  {
   "cell_type": "code",
   "execution_count": 4,
   "metadata": {},
   "outputs": [
    {
     "data": {
      "text/plain": [
       "0.38375408507151704"
      ]
     },
     "execution_count": 4,
     "metadata": {},
     "output_type": "execute_result"
    }
   ],
   "source": [
    "X = nba_data[\"0\"]\n",
    "\n",
    "Y = nba_data[\"48\"]\n",
    "\n",
    "\n",
    "#the numpy that we already imported can be used here as \"np\"\n",
    "np.corrcoef(X, Y)[0,1]\n",
    "#this is the only line of code you need to write in order to import a graph, but you must define the variables\n",
    "# such as X and Y as your minute and values"
   ]
  },
  {
   "cell_type": "markdown",
   "metadata": {},
   "source": [
    "From using this information, it can be determined that the coorelation coefficient shows a positive, uncoorelated connection between the first minute of the game and the final minute of the game. Basically what that means is that you have no idea who is going to win the game based on the very first minute. This shows how good the teams in the NBA are, because it means that any one team can go out and beat any other team on any given night."
   ]
  },
  {
   "cell_type": "markdown",
   "metadata": {},
   "source": [
    "### Data Modeling (Graph):\n",
    "\n",
    "- Now comes the actual plotting of the graph to visually see the data a bit better\n",
    "- Thanks to Tracey's help, I know that the mathplotlib that I imported at the beginning will help me out here\n",
    "- What I want to do is make a graph of the minute in the game relative to the correlation in that minute\n",
    "- The mathplotlib is helpful because it already knows the values of what I want to graph, based on the r_vals section that I already determined by minute from above\n",
    "- If I wanted, I would not necessarily need to print all 48 r values from earlier, and instead just put it into the graph here\n",
    "- Because I already have the data from above, I know what the graph should look like\n",
    "- However, it is still nice to visualize what the data looks like by using graphs and models"
   ]
  },
  {
   "cell_type": "code",
   "execution_count": 8,
   "metadata": {},
   "outputs": [
    {
     "data": {
      "image/png": "[encoded data removed]",
      "text/plain": [
       "<matplotlib.figure.Figure at 0x20ca9d4cdd8>"
      ]
     },
     "metadata": {},
     "output_type": "display_data"
    }
   ],
   "source": [
    "#NOW LETS PLOT THIS\n",
    "plt.xlabel(\"minute in game\")\n",
    "plt.ylabel(\"R correlation to final minute\")\n",
    "plt.plot(r_vals)\n",
    "plt.show()\n"
   ]
  },
  {
   "cell_type": "markdown",
   "metadata": {},
   "source": [
    "### Data Analysis and Conclusion:\n",
    "\n",
    "After looking over the data, there are a couple interesting things to take away from the data:\n",
    "\n",
    "- The first thing to note is that there is a jump in the r values from minute 0-2\n",
    "- This stands out because after minute 2, the correlation falls back down lower again\n",
    "- There are all kinds of meanings for this, but based on the fact that it uses a lot of data from a lot of games, it cannot be ruled an outlier\n",
    "- In my opinion, I think this jump in correlation factors means that whichever team takes the lead in the second minute generally has the better chance to win the game\n",
    "- This could also mean that the second minute of play is commonly shown as the pivotal point in the game\n",
    "- The issue is that the value then drops again after the second minute\n",
    "- This means that the second minute is most alike the final minute, as far as the difference at the end of the game. If a team goes up by 10 points in the first 2 minutes, it most likely means that they are the most likely to win the game\n",
    "- The reason why it goes down again is because after the first wave of points scored, the opposing team is likely to score a couple points and get back into the game, which is the reason why the r correlation factor decreases again\n",
    "- From that point on, the game gradually plays out until the final minute, determining that the winner of the game may not be as easily determined in the third minute as it is in the second minute."
   ]
  },
  {
   "cell_type": "markdown",
   "metadata": {},
   "source": [
    "As for the rest of the data, it showed a gradual increase towards one, or being perfectly correlated. This makes a lot of sense because as the game goes on, you get closer and closer to determining the winner. This is why it makes perfect sense that the correlation coefficients at 40 minutes and up are all in the .97 or higher range. I think it would be helpful in the future to try and differentiate by team to see which team controls games from the start, or which teams have the tightest games annually."
   ]
  },
  {
   "cell_type": "markdown",
   "metadata": {},
   "source": [
    "### Acknowledgements:\n",
    "\n",
    "- I would like to note that my code was primarily given to me from tracey, while I managed to understand what it means and why that is important\n",
    "- I give props to Michael Gary for helping me figure out the X and Y labels in a given value to determine the correlation coeffiecient at a given point (just under the correlation coefficients from minutes 0 to 48)"
   ]
  }
 ],
 "metadata": {
  "kernelspec": {
   "display_name": "Python 3",
   "language": "python",
   "name": "python3"
  },
  "language_info": {
   "codemirror_mode": {
    "name": "ipython",
    "version": 3
   },
   "file_extension": ".py",
   "mimetype": "text/x-python",
   "name": "python",
   "nbconvert_exporter": "python",
   "pygments_lexer": "ipython3",
   "version": "3.6.1"
  }
 },
 "nbformat": 4,
 "nbformat_minor": 2
}
